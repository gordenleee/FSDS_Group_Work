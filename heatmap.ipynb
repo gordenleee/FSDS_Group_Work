{
 "cells": [
  {
   "cell_type": "code",
   "execution_count": 21,
   "id": "838047d2-e559-4d53-a842-c7898bea8407",
   "metadata": {},
   "outputs": [
    {
     "name": "stderr",
     "output_type": "stream",
     "text": [
      "/tmp/ipykernel_24034/1183501194.py:6: DtypeWarning: Columns (14) have mixed types. Specify dtype option on import or set low_memory=False.\n",
      "  data = pd.read_csv('cleaned_data.csv') # 替换为您的CSV文件路径\n"
     ]
    }
   ],
   "source": [
    "import pandas as pd\n",
    "import folium\n",
    "from folium.plugins import HeatMap\n",
    "\n",
    "# 加载数据\n",
    "data = pd.read_csv('cleaned_data.csv') # 替换为您的CSV文件路径\n",
    "\n",
    "# 初始化伦敦地图，设置初始焦点和缩放级别\n",
    "map_london = folium.Map(location=[51.5074, -0.1278], zoom_start=10)\n",
    "\n",
    "# 提取经纬度和价格作为热力图的数据源\n",
    "heat_data = data[['latitude', 'longitude', 'price']].values.tolist()\n",
    "\n",
    "# 生成热力图，并调整颜色渐变以增强对比度\n",
    "HeatMap(heat_data, radius=10, max_zoom=13, gradient={0.01: 'grey', 0.2: 'blue', 0.4: 'lime', 0.7: 'yellow',0.75: 'orange', 0.85: 'red', 0.89: 'black'}, min_opacity=0.6).add_to(map_london)\n",
    "\n",
    "# 保存到HTML文件\n",
    "map_london.save('london_heatmap5.html')"
   ]
  }
 ],
 "metadata": {
  "kernelspec": {
   "display_name": "Python 3 (ipykernel)",
   "language": "python",
   "name": "python3"
  },
  "language_info": {
   "codemirror_mode": {
    "name": "ipython",
    "version": 3
   },
   "file_extension": ".py",
   "mimetype": "text/x-python",
   "name": "python",
   "nbconvert_exporter": "python",
   "pygments_lexer": "ipython3",
   "version": "3.11.5"
  }
 },
 "nbformat": 4,
 "nbformat_minor": 5
}
